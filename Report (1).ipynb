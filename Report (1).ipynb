{
 "cells": [
  {
   "cell_type": "markdown",
   "metadata": {},
   "source": [
    "## Prospects of Opening a Restaurant in East, West, and Central Toronto ##"
   ]
  },
  {
   "cell_type": "markdown",
   "metadata": {},
   "source": [
    "#### 1. Introduction:"
   ]
  },
  {
   "cell_type": "markdown",
   "metadata": {},
   "source": [
    "\n",
    "The goal of the Capstone Project is to help me explore restaurant venues in East, West and Central Toronto. As an investor, I would like to open up a restaurant in the area. It will help me decide on the neighbourhood, the types of restaurants and competition in the area. It shall help me decide.\n",
    "Questions:\n",
    "1. I wanted to explore which borough has the highest number of Restaurants.\n",
    "2. What restaurant categories are  most popular?\n",
    "3. Which Borough should I choose, and depending on it what cuisine should guarantee most success?\n",
    "\n",
    "Who else can benefit from this?\n",
    "\n",
    "1. Business personnel who wants to invest or open a Restaurant in Toronto. It will also give an idea, how beneficial it is to open the centre and what are the pros and cons of this business.\n",
    "\n",
    "2. Based on the number of restaurants, I will recommend area that might be suitable to start a new centre.\n",
    "\n",
    "3. Budding Data Scientists, who want to implement some of the most used Exploratory Data Analysis techniques to obtain necessary data, analyse it, and, finally be able to tell a story out of it."
   ]
  },
  {
   "cell_type": "markdown",
   "metadata": {},
   "source": [
    "#### 2. Data:"
   ]
  },
  {
   "cell_type": "markdown",
   "metadata": {},
   "source": [
    "Data Link: We will scrape Toronto Dataset consisting of latitude and longitude, zip codes from the link below: \n",
    "https://en.wikipedia.org/wiki/List_of_postal_codes_of_Canada:_M\n",
    "\n",
    "I will be importing & merging the csv files for latitude and longtitude provided during the Week 3 of the course, using weget.\n",
    "https://cocl.us/Geospatial_data\n",
    "\n",
    "<img src=\"Data_frame.PNG\">"
   ]
  },
  {
   "cell_type": "markdown",
   "metadata": {},
   "source": [
    "Foursquare API Data:\n",
    "We will need data about different venues in different neighborhoods of that specific borough.\n",
    "In order to gain that information we will use “Foursquare” locational information. Foursquare is a location data provider with information about all manner of venues and events within an area of interest. Such information includes venue names, locations, menus and even photos. As such, the foursquare location platform will be used as the sole data source since all the stated required information can be obtained through the API.\n",
    "After finding the list of neighborhoods, we then connect to the Foursquare API to gather information about venues inside each and every neighborhood. For each neighborhood, we have chosen the radius to be 100 meters.\n",
    "The data retrieved from Foursquare contained information of venues within a specified distance of the longitude and latitude of the postcodes. The information obtained per venue as follows:\n",
    "1. Neighborhood\n",
    "2. Neighborhood Latitude\n",
    "3. Neighborhood Longitude\n",
    "4. Venue\n",
    "5. Name of the venue e.g. the name of a store or restaurant\n",
    "6. Venue Latitude\n",
    "7. Venue Longitude\n",
    "8. Venue Category"
   ]
  },
  {
   "cell_type": "markdown",
   "metadata": {},
   "source": [
    "I used python folium library to visualize geographic details of Toronto and its boroughs and I created a map of Toronto with boroughs superimposed on top. I used latitude and longitude values to get the visual as below:"
   ]
  },
  {
   "cell_type": "markdown",
   "metadata": {},
   "source": [
    "<img src=\"Toronto Map.PNG\">"
   ]
  },
  {
   "cell_type": "markdown",
   "metadata": {},
   "source": [
    "##### I will just limit the analysis to neighborhoods in East, West and Central Toronto only. There are 39 unique Neighborhood in the selected area."
   ]
  },
  {
   "cell_type": "markdown",
   "metadata": {},
   "source": [
    "#### 3. Methodology"
   ]
  },
  {
   "cell_type": "markdown",
   "metadata": {},
   "source": [
    "Clustering Approach:\n",
    "I decided to explore neighbourhoods, segment them, and group them into clusters to find the region which should help me make a decision so as to where should I start the restaurant. To be able to do that, I need to cluster data which is a form of unsupervised machine learning: k-means clustering algorithm.\n",
    "Run *k*-means to cluster the neighborhood into 3 clusters."
   ]
  },
  {
   "cell_type": "markdown",
   "metadata": {},
   "source": [
    "#### 4. Results"
   ]
  },
  {
   "cell_type": "markdown",
   "metadata": {},
   "source": [
    "Downtown hosts highest number of restaurants. Downtown Toronto has the highest number of restaurants, with 291 in the neighbourhood. West Toronto has the second highest (39), followed by East. Downtown Toronto has Restaurants as top-most venues overall."
   ]
  },
  {
   "cell_type": "markdown",
   "metadata": {},
   "source": [
    "<img src=\"Number of Restaurants Borough-wise.PNG\">"
   ]
  },
  {
   "cell_type": "markdown",
   "metadata": {},
   "source": [
    "1. In terms of general venue category, Cafés and Coffee Shops are the  top two venue categories overall. "
   ]
  },
  {
   "cell_type": "markdown",
   "metadata": {},
   "source": [
    "<img src=\"venue.PNG\">"
   ]
  },
  {
   "cell_type": "markdown",
   "metadata": {},
   "source": [
    "2. Italian, Japanese, Sushi and American Restaurants are in top five. Since, I am focusing on specific cuisines, I decided to ignore the general restaurant category ranking as the top 1 as seen below."
   ]
  },
  {
   "cell_type": "markdown",
   "metadata": {},
   "source": [
    "<img src=\"restaurant categories.PNG\">"
   ]
  },
  {
   "cell_type": "markdown",
   "metadata": {},
   "source": [
    "Italian, Japanese and Greek Restaurants are the top three most common venue categories in Central, Downtown, and East Toronto, respectively. Italian is the most popular, followed by Japanese. Overall, the area seems to have a taste for Asian foods.\n",
    "\n",
    "Greek Restaurants options seem to be popular in East Toronto."
   ]
  },
  {
   "cell_type": "markdown",
   "metadata": {},
   "source": [
    "<img src=\"Top 10 most common Restaurant by Borough.PNG\">"
   ]
  },
  {
   "cell_type": "markdown",
   "metadata": {},
   "source": [
    "Italian, Japanese, Sushi and American Restaurants are in top five. Since, I am focusing on specific cuisines, I decided to ignore the general restaurant category.\n"
   ]
  },
  {
   "cell_type": "markdown",
   "metadata": {},
   "source": [
    "<img src=\"pizza.png\">"
   ]
  },
  {
   "cell_type": "code",
   "execution_count": 19,
   "metadata": {},
   "outputs": [
    {
     "ename": "SyntaxError",
     "evalue": "invalid syntax (<ipython-input-19-a4b2d1badcfe>, line 1)",
     "output_type": "error",
     "traceback": [
      "\u001b[0;36m  File \u001b[0;32m\"<ipython-input-19-a4b2d1badcfe>\"\u001b[0;36m, line \u001b[0;32m1\u001b[0m\n\u001b[0;31m    Interesting was that Vegan/Vegetarian Restaurants is also 7th most common venue categories. It's worth giving a thought, given that the healthy trend is here to stay. However, Vegetarain options are more popular in Downtown and Central Toronto.\u001b[0m\n\u001b[0m                  ^\u001b[0m\n\u001b[0;31mSyntaxError\u001b[0m\u001b[0;31m:\u001b[0m invalid syntax\n"
     ]
    }
   ],
   "source": [
    "Interesting was that Vegan/Vegetarian Restaurants is also 7th most common venue categories. It's worth giving a thought, given that the healthy trend is here to stay. However, Vegetarain options are more popular in Downtown and Central Toronto.\n",
    "\n",
    "Please note: Since, I am focusing on specific cuisines, I decided to ignore the general restaurant category ranking as the top 1 as seen below."
   ]
  },
  {
   "cell_type": "markdown",
   "metadata": {},
   "source": [
    "<img src=\"Most_Freq_Venues.png\">"
   ]
  },
  {
   "cell_type": "markdown",
   "metadata": {},
   "source": [
    "Since my focus is mostly on the competetions provided by restaurants on these borough, I also explored how most common restaurant categories are distributed in each district and the violin plot below of categorical variables give the answer.\n",
    "\n",
    "In terms of less density of restaurants, East Toronto is a more viable option, based on the violin plot generated for the top 4 cuisines in the selected boroughs.\n"
   ]
  },
  {
   "cell_type": "markdown",
   "metadata": {},
   "source": [
    "<img src=\"Violin_plots_Dist_Frequent_Restaurant.png\">"
   ]
  },
  {
   "cell_type": "markdown",
   "metadata": {},
   "source": [
    " East Toronto  is a popular destination for new immigrants in Canada to reside, and is one of the most diverse and multicultural areas in the Greater Toronto Area, being home to various religious groups and places of worship."
   ]
  },
  {
   "cell_type": "markdown",
   "metadata": {},
   "source": [
    "#### 5.Conclusion"
   ]
  },
  {
   "cell_type": "markdown",
   "metadata": {},
   "source": [
    "In terms of general venue category, Cafés and Coffee Shops are the first top two venue categories overall.\n",
    "\n",
    "- Downtown is crowded with restaurants, with Italian, Japanese and Sushi restaurant topping the most common restaurants rank.\n",
    "\n",
    "- Downtown Toronto has the highest number of restaurants, with 291 in the neighbourhood. West Toronto has the second highest (39), followed by East. \n",
    "\n",
    "- Italian, Japanese, Sushi and American Restaurants are in top five restaurant categories in the boroughs. Greek Restaurants options seem to be popular in East Toronto.\n",
    "\n",
    "- Central, Downtown, and East Toronto see Italian, Japanese and Greek Restaurants as the most common venue categories, respectively.\n",
    "\n",
    "- Vegan/Vegetarian Restaurants is 7th most common venue in restaurant categories. It's worth considering, given that the healthy trend is here to stay. However, Vegetarain options are more popular in Downtown and Central Toronto.\n",
    "\n",
    "- In general, Coffee Shops are wide-spread in the region, more than restaurants in the area. It's worth investing in coffee shops given the popularity of the venue."
   ]
  },
  {
   "cell_type": "markdown",
   "metadata": {},
   "source": [
    "#### 6. Recommendation"
   ]
  },
  {
   "cell_type": "markdown",
   "metadata": {},
   "source": [
    "- In terms of less density of restaurants, East Toronto is a viable option. A Greek or Japanese/Sushi place should attract customers in the area.\n",
    "- East Toronto is a popular destination for new immigrants in Canada to reside, is one of the most diverse and multicultural areas in the Greater Toronto Area. \n",
    "- The borough will have lesser number of competitors in the region, should I wish to open a restaurant. However, a concept cafe should do well too, given the popularity of coffee shops Toronto-wide.\n",
    "- However, should I look into Vegan/Vegetarian option, East Toronto might not be quite conducive. Downtown and Central Toronto shall be a better choice in that case."
   ]
  },
  {
   "cell_type": "code",
   "execution_count": null,
   "metadata": {},
   "outputs": [],
   "source": []
  }
 ],
 "metadata": {
  "kernelspec": {
   "display_name": "Python",
   "language": "python",
   "name": "conda-env-python-py"
  },
  "language_info": {
   "codemirror_mode": {
    "name": "ipython",
    "version": 3
   },
   "file_extension": ".py",
   "mimetype": "text/x-python",
   "name": "python",
   "nbconvert_exporter": "python",
   "pygments_lexer": "ipython3",
   "version": "3.6.10"
  }
 },
 "nbformat": 4,
 "nbformat_minor": 4
}
